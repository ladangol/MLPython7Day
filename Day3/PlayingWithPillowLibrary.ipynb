{
 "cells": [
  {
   "cell_type": "code",
   "execution_count": 2,
   "metadata": {},
   "outputs": [],
   "source": [
    "import zipfile as zipf\n",
    "zip = zipf.ZipFile('train.zip')\n",
    "zip.extractall('./Data')"
   ]
  },
  {
   "cell_type": "code",
   "execution_count": 3,
   "metadata": {},
   "outputs": [],
   "source": [
    "zip = zipf.ZipFile('test.zip')\n",
    "zip.extractall('./Data')"
   ]
  },
  {
   "cell_type": "code",
   "execution_count": 51,
   "metadata": {},
   "outputs": [
    {
     "name": "stdout",
     "output_type": "stream",
     "text": [
      "(399, 300)\n"
     ]
    }
   ],
   "source": [
    "#playing with pillow library\n",
    "from PIL import Image\n",
    "cat1 = Image.open('./Data/train/cat/cat.5077.jpg')\n",
    "cat1.show()\n",
    "print(cat1.size)"
   ]
  },
  {
   "cell_type": "code",
   "execution_count": 52,
   "metadata": {},
   "outputs": [
    {
     "name": "stdout",
     "output_type": "stream",
     "text": [
      "(64, 64)\n"
     ]
    }
   ],
   "source": [
    "resizeCat = cat1.resize((64,64),Image.ANTIALIAS) #PIL.Image.ANTIALIAS (a high-quality downsampling filter)\n",
    "resizeCat.show()\n",
    "print(resizeCat.size)"
   ]
  },
  {
   "cell_type": "code",
   "execution_count": 53,
   "metadata": {},
   "outputs": [
    {
     "name": "stdout",
     "output_type": "stream",
     "text": [
      "(64, 48)\n"
     ]
    }
   ],
   "source": [
    "#thumbnail\n",
    "cat1.thumbnail((64,64))   #Image.thumbnail() modifies the image, it doesn't return a new one. \n",
    "cat1.save('thumbnail_cat_0.jpg')\n",
    "print(cat1.size)\n",
    "cat1.show()"
   ]
  },
  {
   "cell_type": "code",
   "execution_count": 57,
   "metadata": {},
   "outputs": [
    {
     "name": "stdout",
     "output_type": "stream",
     "text": [
      "<class 'list'>\n",
      "768\n"
     ]
    }
   ],
   "source": [
    "#testing FindEdges\n",
    "from PIL import ImageFilter\n",
    "imageWithEdges = resizeCat.filter(ImageFilter.FIND_EDGES) \n",
    "pixel_value=imageWithEdges.histogram() \n",
    "print(type(pixel_value))\n",
    "print(len(pixel_value))"
   ]
  },
  {
   "cell_type": "code",
   "execution_count": 58,
   "metadata": {},
   "outputs": [
    {
     "name": "stdout",
     "output_type": "stream",
     "text": [
      "(64, 64)\n"
     ]
    },
    {
     "data": {
      "text/plain": [
       "(768,)"
      ]
     },
     "execution_count": 58,
     "metadata": {},
     "output_type": "execute_result"
    }
   ],
   "source": [
    "imageWithEdges.show()\n",
    "print(imageWithEdges.size)\n",
    "import numpy as np\n",
    "arrImg = np.array(pixel_value)\n",
    "arrImg.shape"
   ]
  },
  {
   "cell_type": "code",
   "execution_count": 31,
   "metadata": {},
   "outputs": [
    {
     "data": {
      "text/plain": [
       "array([[167, 171, 177, ..., 211, 208, 203],\n",
       "       [167,   0,   9, ...,   3,   2, 205],\n",
       "       [167,   9,   6, ...,  14,   4, 207],\n",
       "       ...,\n",
       "       [126,   6,   6, ...,   0,   4,   2],\n",
       "       [125,   0,   0, ...,   6,  10,   2],\n",
       "       [122, 126, 129, ...,   2,   2,   2]], dtype=uint8)"
      ]
     },
     "execution_count": 31,
     "metadata": {},
     "output_type": "execute_result"
    }
   ],
   "source": [
    "arrImg[:,:,1]"
   ]
  },
  {
   "cell_type": "code",
   "execution_count": 44,
   "metadata": {},
   "outputs": [
    {
     "data": {
      "text/plain": [
       "(19200,)"
      ]
     },
     "execution_count": 44,
     "metadata": {},
     "output_type": "execute_result"
    }
   ],
   "source": [
    "arr = []\n",
    "arr.append(arrImg)\n",
    "flatarr = np.array(arr).flatten()\n",
    "np.array(flatarr).shape"
   ]
  },
  {
   "cell_type": "code",
   "execution_count": 47,
   "metadata": {},
   "outputs": [
    {
     "name": "stdout",
     "output_type": "stream",
     "text": [
      "3\n",
      "['cat', '.DS_Store', 'dog']\n"
     ]
    }
   ],
   "source": [
    "import os\n",
    "files = [file for file in os.listdir('./Data/train')]\n",
    "print(len(files))\n",
    "print(files)"
   ]
  },
  {
   "cell_type": "code",
   "execution_count": null,
   "metadata": {},
   "outputs": [],
   "source": []
  }
 ],
 "metadata": {
  "kernelspec": {
   "display_name": "Python 3",
   "language": "python",
   "name": "python3"
  },
  "language_info": {
   "codemirror_mode": {
    "name": "ipython",
    "version": 3
   },
   "file_extension": ".py",
   "mimetype": "text/x-python",
   "name": "python",
   "nbconvert_exporter": "python",
   "pygments_lexer": "ipython3",
   "version": "3.7.1"
  }
 },
 "nbformat": 4,
 "nbformat_minor": 2
}
