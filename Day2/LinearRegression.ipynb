{
 "cells": [
  {
   "cell_type": "code",
   "execution_count": 1,
   "metadata": {},
   "outputs": [
    {
     "data": {
      "text/plain": [
       "(5000, 2)"
      ]
     },
     "execution_count": 1,
     "metadata": {},
     "output_type": "execute_result"
    }
   ],
   "source": [
    "import numpy\n",
    "filename='height-weight.csv'\n",
    "raw_data = open(filename,'r')\n",
    "data = numpy.loadtxt(raw_data, delimiter=',')\n",
    "data.shape"
   ]
  },
  {
   "cell_type": "code",
   "execution_count": 2,
   "metadata": {},
   "outputs": [
    {
     "data": {
      "text/plain": [
       "array([[ 73.84701702, 241.8935632 ],\n",
       "       [ 68.78190405, 162.3104725 ],\n",
       "       [ 74.11010539, 212.7408556 ],\n",
       "       [ 71.7309784 , 220.0424703 ],\n",
       "       [ 69.88179586, 206.3498006 ],\n",
       "       [ 67.25301569, 152.2121558 ],\n",
       "       [ 68.78508125, 183.9278886 ],\n",
       "       [ 68.34851551, 167.9711105 ],\n",
       "       [ 67.01894966, 175.9294404 ],\n",
       "       [ 63.45649398, 156.3996764 ]])"
      ]
     },
     "execution_count": 2,
     "metadata": {},
     "output_type": "execute_result"
    }
   ],
   "source": [
    "data[:10]  #showing the first 10 rows\n"
   ]
  },
  {
   "cell_type": "code",
   "execution_count": 4,
   "metadata": {},
   "outputs": [
    {
     "data": {
      "text/plain": [
       "<matplotlib.collections.PathCollection at 0x1a18f7ea20>"
      ]
     },
     "execution_count": 4,
     "metadata": {},
     "output_type": "execute_result"
    },
    {
     "data": {
      "image/png": "[encoded data removed]",
      "text/plain": [
       "<Figure size 432x288 with 1 Axes>"
      ]
     },
     "metadata": {
      "needs_background": "light"
     },
     "output_type": "display_data"
    }
   ],
   "source": [
    "#importing the plotting library\n",
    "import matplotlib.pyplot as plt\n",
    "import numpy as np\n",
    "from sklearn import linear_model\n",
    "from sklearn.metrics import mean_squared_error\n",
    "\n",
    "# We separate out the independent variable height into X\n",
    "#and dependent variable weight into Y\n",
    "X = data[:,0]\n",
    "Y = data[:,1]\n",
    "\n",
    "#plotting the first 20 data\n",
    "X_20 = X[:20]\n",
    "Y_20 = Y[:20]\n",
    "\n",
    "plt.scatter(X_20, Y_20, color = 'red', s=30)   #s= area of marker"
   ]
  },
  {
   "cell_type": "code",
   "execution_count": 5,
   "metadata": {},
   "outputs": [
    {
     "name": "stdout",
     "output_type": "stream",
     "text": [
      "(4500,)\n",
      "(4500,)\n",
      "(500,)\n",
      "(500,)\n"
     ]
    }
   ],
   "source": [
    "#as the plot shows when the height increases the weight increases as well\n",
    "\n",
    "#Split the data into training/testing sets\n",
    "X_train = X[:4500]   #the first 4500 rows of height\n",
    "X_test = X[4500:]\n",
    "\n",
    "#Split the target into training/Testing sets\n",
    "Y_train = Y[:4500]\n",
    "Y_test = Y[4500:]\n",
    "\n",
    "print(X_train.shape)\n",
    "print(Y_train.shape)\n",
    "\n",
    "print(X_test.shape)\n",
    "print(Y_test.shape)"
   ]
  },
  {
   "cell_type": "code",
   "execution_count": 6,
   "metadata": {},
   "outputs": [
    {
     "data": {
      "text/plain": [
       "(4500, 1)"
      ]
     },
     "execution_count": 6,
     "metadata": {},
     "output_type": "execute_result"
    }
   ],
   "source": [
    "#We need to convert it to an array\n",
    "X_train = X_train.reshape(-1,1)\n",
    "X_test = X_test.reshape(-1,1)\n",
    "\n",
    "#It means put the second dimention to 1 and infer the first dimention from the length of the array\n",
    "#One shape dimension can be -1. In this case, the value is inferred from the length of the array\n",
    "#and remaining dimensions\n",
    "X_train.shape"
   ]
  },
  {
   "cell_type": "code",
   "execution_count": 7,
   "metadata": {},
   "outputs": [
    {
     "data": {
      "text/plain": [
       "LinearRegression(copy_X=True, fit_intercept=True, n_jobs=None,\n",
       "         normalize=False)"
      ]
     },
     "execution_count": 7,
     "metadata": {},
     "output_type": "execute_result"
    }
   ],
   "source": [
    "#Create Linear regression object\n",
    "regr = linear_model.LinearRegression()\n",
    "#Train the model using the training set\n",
    "regr.fit(X_train, Y_train)"
   ]
  },
  {
   "cell_type": "code",
   "execution_count": 11,
   "metadata": {},
   "outputs": [
    {
     "name": "stdout",
     "output_type": "stream",
     "text": [
      "Coefficients:\n",
      " [5.94515497]\n",
      "97.09508717141509\n"
     ]
    }
   ],
   "source": [
    "#Make predictions using teh testing set\n",
    "Y_pred = regr.predict(X_test)\n",
    "\n",
    "#The coefficients\n",
    "print('Coefficients:\\n', regr.coef_)\n",
    "print(mean_squared_error(Y_test, Y_pred))"
   ]
  },
  {
   "cell_type": "code",
   "execution_count": 10,
   "metadata": {},
   "outputs": [
    {
     "data": {
      "text/plain": [
       "<function matplotlib.pyplot.show(*args, **kw)>"
      ]
     },
     "execution_count": 10,
     "metadata": {},
     "output_type": "execute_result"
    },
    {
     "data": {
      "image/png": "[encoded data removed]",
      "text/plain": [
       "<Figure size 432x288 with 1 Axes>"
      ]
     },
     "metadata": {},
     "output_type": "display_data"
    }
   ],
   "source": [
    "plt.scatter(X_test, Y_test, color='black')\n",
    "plt.plot(X_test, Y_pred, color = 'blue', linewidth = 3)\n",
    "plt.xticks(())\n",
    "plt.yticks(())\n",
    "plt.show\n",
    "\n",
    "#ticks : array_like\n",
    "#A list of positions at which ticks should be placed. You can pass an empty list to disable xticks."
   ]
  },
  {
   "cell_type": "code",
   "execution_count": null,
   "metadata": {},
   "outputs": [],
   "source": []
  }
 ],
 "metadata": {
  "kernelspec": {
   "display_name": "Python 3",
   "language": "python",
   "name": "python3"
  },
  "language_info": {
   "codemirror_mode": {
    "name": "ipython",
    "version": 3
   },
   "file_extension": ".py",
   "mimetype": "text/x-python",
   "name": "python",
   "nbconvert_exporter": "python",
   "pygments_lexer": "ipython3",
   "version": "3.7.1"
  }
 },
 "nbformat": 4,
 "nbformat_minor": 2
}
